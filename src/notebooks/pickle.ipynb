{
 "cells": [
  {
   "cell_type": "code",
   "execution_count": 10,
   "metadata": {},
   "outputs": [],
   "source": [
    "import pickle\n",
    "import numpy as np\n",
    "import pandas as pd\n",
    "from sklearn.metrics import mean_absolute_error, mean_squared_error, mean_absolute_percentage_error"
   ]
  },
  {
   "attachments": {},
   "cell_type": "markdown",
   "metadata": {},
   "source": [
    "# Notebook para test con pickle desde 0"
   ]
  },
  {
   "cell_type": "code",
   "execution_count": 2,
   "metadata": {},
   "outputs": [
    {
     "data": {
      "text/html": [
       "<div>\n",
       "<style scoped>\n",
       "    .dataframe tbody tr th:only-of-type {\n",
       "        vertical-align: middle;\n",
       "    }\n",
       "\n",
       "    .dataframe tbody tr th {\n",
       "        vertical-align: top;\n",
       "    }\n",
       "\n",
       "    .dataframe thead th {\n",
       "        text-align: right;\n",
       "    }\n",
       "</style>\n",
       "<table border=\"1\" class=\"dataframe\">\n",
       "  <thead>\n",
       "    <tr style=\"text-align: right;\">\n",
       "      <th></th>\n",
       "      <th>Year Published</th>\n",
       "      <th>Min Players</th>\n",
       "      <th>Max Players</th>\n",
       "      <th>Play Time</th>\n",
       "      <th>Min Age</th>\n",
       "      <th>Users Rated</th>\n",
       "      <th>Complexity Average</th>\n",
       "      <th>Owned Users</th>\n",
       "      <th>baverage</th>\n",
       "      <th>numgeeklists</th>\n",
       "      <th>...</th>\n",
       "      <th>boardgamefamily_cnt</th>\n",
       "      <th>Domains_Abstract Games</th>\n",
       "      <th>Domains_Children's Games</th>\n",
       "      <th>Domains_Customizable Games</th>\n",
       "      <th>Domains_Family Games</th>\n",
       "      <th>Domains_Party Games</th>\n",
       "      <th>Domains_Strategy Games</th>\n",
       "      <th>Domains_Thematic Games</th>\n",
       "      <th>Domains_Unknown</th>\n",
       "      <th>Domains_Wargames</th>\n",
       "    </tr>\n",
       "  </thead>\n",
       "  <tbody>\n",
       "    <tr>\n",
       "      <th>0</th>\n",
       "      <td>1876</td>\n",
       "      <td>2</td>\n",
       "      <td>4</td>\n",
       "      <td>30</td>\n",
       "      <td>8</td>\n",
       "      <td>12197.0</td>\n",
       "      <td>1.25</td>\n",
       "      <td>10561</td>\n",
       "      <td>7.65020</td>\n",
       "      <td>3992.0</td>\n",
       "      <td>...</td>\n",
       "      <td>3</td>\n",
       "      <td>0.0</td>\n",
       "      <td>0.0</td>\n",
       "      <td>0.0</td>\n",
       "      <td>1.0</td>\n",
       "      <td>0.0</td>\n",
       "      <td>0.0</td>\n",
       "      <td>0.0</td>\n",
       "      <td>0.0</td>\n",
       "      <td>0.0</td>\n",
       "    </tr>\n",
       "    <tr>\n",
       "      <th>1</th>\n",
       "      <td>1982</td>\n",
       "      <td>1</td>\n",
       "      <td>8</td>\n",
       "      <td>120</td>\n",
       "      <td>13</td>\n",
       "      <td>17236.0</td>\n",
       "      <td>2.68</td>\n",
       "      <td>32905</td>\n",
       "      <td>7.50266</td>\n",
       "      <td>3375.0</td>\n",
       "      <td>...</td>\n",
       "      <td>6</td>\n",
       "      <td>0.0</td>\n",
       "      <td>0.0</td>\n",
       "      <td>0.0</td>\n",
       "      <td>0.0</td>\n",
       "      <td>0.0</td>\n",
       "      <td>0.0</td>\n",
       "      <td>1.0</td>\n",
       "      <td>0.0</td>\n",
       "      <td>0.0</td>\n",
       "    </tr>\n",
       "  </tbody>\n",
       "</table>\n",
       "<p>2 rows × 27 columns</p>\n",
       "</div>"
      ],
      "text/plain": [
       "   Year Published  Min Players  Max Players  Play Time  Min Age  Users Rated  \\\n",
       "0            1876            2            4         30        8      12197.0   \n",
       "1            1982            1            8        120       13      17236.0   \n",
       "\n",
       "   Complexity Average  Owned Users  baverage  numgeeklists  ...  \\\n",
       "0                1.25        10561   7.65020        3992.0  ...   \n",
       "1                2.68        32905   7.50266        3375.0  ...   \n",
       "\n",
       "   boardgamefamily_cnt  Domains_Abstract Games  Domains_Children's Games  \\\n",
       "0                    3                     0.0                       0.0   \n",
       "1                    6                     0.0                       0.0   \n",
       "\n",
       "   Domains_Customizable Games  Domains_Family Games  Domains_Party Games  \\\n",
       "0                         0.0                   1.0                  0.0   \n",
       "1                         0.0                   0.0                  0.0   \n",
       "\n",
       "   Domains_Strategy Games  Domains_Thematic Games  Domains_Unknown  \\\n",
       "0                     0.0                     0.0              0.0   \n",
       "1                     0.0                     1.0              0.0   \n",
       "\n",
       "   Domains_Wargames  \n",
       "0               0.0  \n",
       "1               0.0  \n",
       "\n",
       "[2 rows x 27 columns]"
      ]
     },
     "execution_count": 2,
     "metadata": {},
     "output_type": "execute_result"
    }
   ],
   "source": [
    "df = pd.read_csv('../data/Test_datos_nuevos.csv')\n",
    "\n",
    "df.head(2)"
   ]
  },
  {
   "cell_type": "code",
   "execution_count": 7,
   "metadata": {},
   "outputs": [
    {
     "data": {
      "text/html": [
       "<div>\n",
       "<style scoped>\n",
       "    .dataframe tbody tr th:only-of-type {\n",
       "        vertical-align: middle;\n",
       "    }\n",
       "\n",
       "    .dataframe tbody tr th {\n",
       "        vertical-align: top;\n",
       "    }\n",
       "\n",
       "    .dataframe thead th {\n",
       "        text-align: right;\n",
       "    }\n",
       "</style>\n",
       "<table border=\"1\" class=\"dataframe\">\n",
       "  <thead>\n",
       "    <tr style=\"text-align: right;\">\n",
       "      <th></th>\n",
       "      <th>target</th>\n",
       "    </tr>\n",
       "  </thead>\n",
       "  <tbody>\n",
       "    <tr>\n",
       "      <th>0</th>\n",
       "      <td>7.91</td>\n",
       "    </tr>\n",
       "    <tr>\n",
       "      <th>1</th>\n",
       "      <td>7.73</td>\n",
       "    </tr>\n",
       "  </tbody>\n",
       "</table>\n",
       "</div>"
      ],
      "text/plain": [
       "   target\n",
       "0    7.91\n",
       "1    7.73"
      ]
     },
     "execution_count": 7,
     "metadata": {},
     "output_type": "execute_result"
    }
   ],
   "source": [
    "respuestas = pd.read_csv('../data/respuestas.csv')\n",
    "\n",
    "respuestas.head(2)"
   ]
  },
  {
   "cell_type": "code",
   "execution_count": 3,
   "metadata": {},
   "outputs": [],
   "source": [
    "with open('../model/production/modelfinal', 'rb') as archivo_entrada:\n",
    "    loaded_model = pickle.load(archivo_entrada)"
   ]
  },
  {
   "cell_type": "code",
   "execution_count": 4,
   "metadata": {},
   "outputs": [
    {
     "data": {
      "text/plain": [
       "Pipeline(steps=[('scaler', StandardScaler()), ('imputer', SimpleImputer()),\n",
       "                ('classifier',\n",
       "                 XGBRegressor(base_score=0.5, booster='gbtree', callbacks=None,\n",
       "                              colsample_bylevel=1, colsample_bynode=1,\n",
       "                              colsample_bytree=1, early_stopping_rounds=None,\n",
       "                              enable_categorical=False, eval_metric=None,\n",
       "                              gamma=0, gpu_id=-1, grow_policy='depthwise',\n",
       "                              importance_type=None, interaction_constraints='',\n",
       "                              learning_rate=0.1, max_bin=256,\n",
       "                              max_cat_to_onehot=4, max_delta_step=0,\n",
       "                              max_depth=5, max_leaves=0, min_child_weight=1,\n",
       "                              missing=nan, monotone_constraints='()',\n",
       "                              n_estimators=500, n_jobs=0, num_parallel_tree=1,\n",
       "                              predictor='auto', random_state=17, reg_alpha=0,\n",
       "                              reg_lambda=1, ...))])"
      ]
     },
     "execution_count": 4,
     "metadata": {},
     "output_type": "execute_result"
    }
   ],
   "source": [
    "loaded_model"
   ]
  },
  {
   "cell_type": "code",
   "execution_count": 12,
   "metadata": {},
   "outputs": [
    {
     "data": {
      "text/plain": [
       "array([7.5690846, 7.587635 , 7.521819 , ..., 5.771171 , 5.76312  ,\n",
       "       5.0140786], dtype=float32)"
      ]
     },
     "execution_count": 12,
     "metadata": {},
     "output_type": "execute_result"
    }
   ],
   "source": [
    "Prediccion = loaded_model.predict(df)\n",
    "\n",
    "Prediccion"
   ]
  },
  {
   "cell_type": "code",
   "execution_count": 13,
   "metadata": {},
   "outputs": [
    {
     "name": "stdout",
     "output_type": "stream",
     "text": [
      "MAE test: 0.11423326619138846\n",
      "MAPE test: 0.01726936200248045\n",
      "MSE test: 0.03224673954641456\n",
      "RMSE test: 0.17957377187778442\n"
     ]
    },
    {
     "data": {
      "text/plain": [
       "0.8895227390963318"
      ]
     },
     "execution_count": 13,
     "metadata": {},
     "output_type": "execute_result"
    }
   ],
   "source": [
    "print(\"MAE test:\", mean_absolute_error(respuestas, Prediccion))\n",
    "print(\"MAPE test:\", mean_absolute_percentage_error(respuestas, Prediccion))\n",
    "print(\"MSE test:\", mean_squared_error(respuestas, Prediccion))\n",
    "print(\"RMSE test:\", np.sqrt(mean_squared_error(respuestas, Prediccion)))\n",
    "\n",
    "loaded_model.score(df, respuestas)"
   ]
  }
 ],
 "metadata": {
  "kernelspec": {
   "display_name": "Python 3",
   "language": "python",
   "name": "python3"
  },
  "language_info": {
   "codemirror_mode": {
    "name": "ipython",
    "version": 3
   },
   "file_extension": ".py",
   "mimetype": "text/x-python",
   "name": "python",
   "nbconvert_exporter": "python",
   "pygments_lexer": "ipython3",
   "version": "3.7.4"
  },
  "orig_nbformat": 4,
  "vscode": {
   "interpreter": {
    "hash": "2eec9acf88381cf1499992ee23cdc6e89257d4a66a92679f136baabbb2af9460"
   }
  }
 },
 "nbformat": 4,
 "nbformat_minor": 2
}
